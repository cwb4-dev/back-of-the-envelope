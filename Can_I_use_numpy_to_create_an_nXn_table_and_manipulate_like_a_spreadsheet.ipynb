{
  "cells": [
    {
      "cell_type": "markdown",
      "metadata": {
        "id": "view-in-github",
        "colab_type": "text"
      },
      "source": [
        "<a href=\"https://colab.research.google.com/github/cwb4-dev/back-of-the-envelope/blob/main/Can_I_use_numpy_to_create_an_nXn_table_and_manipulate_like_a_spreadsheet.ipynb\" target=\"_parent\"><img src=\"https://colab.research.google.com/assets/colab-badge.svg\" alt=\"Open In Colab\"/></a>"
      ]
    },
    {
      "cell_type": "markdown",
      "source": [
        "Yes, you can use NumPy to create an n x n table and manipulate it like a spreadsheet. Here is an example of how to create an n x n table:"
      ],
      "metadata": {
        "id": "PsaOEuR_Idrl"
      }
    },
    {
      "cell_type": "code",
      "source": [
        "import numpy as np\n",
        "\n",
        "n = 10\n",
        "table = np.zeros((n, n))"
      ],
      "outputs": [],
      "execution_count": null,
      "metadata": {
        "id": "ioJkxA5NIdrp"
      }
    },
    {
      "cell_type": "markdown",
      "source": [
        "This will create a 10 x 10 table of zeros. You can then manipulate the table like a spreadsheet using the following methods:\n",
        "\n",
        "* To access an element of the table, use indexing:"
      ],
      "metadata": {
        "id": "NMTW8ICiIdrp"
      }
    },
    {
      "cell_type": "code",
      "source": [
        "table[i, j] = value"
      ],
      "outputs": [],
      "execution_count": null,
      "metadata": {
        "id": "M-j3DnwmIdrq"
      }
    },
    {
      "cell_type": "markdown",
      "source": [
        "This will set the element at row i and column j to the value value.\n",
        "\n",
        "* To get a subtable of the table, use slicing:"
      ],
      "metadata": {
        "id": "h7iEXtoGIdrq"
      }
    },
    {
      "cell_type": "code",
      "source": [
        "subtable = table[i1:i2, j1:j2]"
      ],
      "outputs": [],
      "execution_count": null,
      "metadata": {
        "id": "ijAC_B3AIdrq"
      }
    },
    {
      "cell_type": "markdown",
      "source": [
        "This will get a subtable of the table that starts at row i1 and ends at row i2, and starts at column j1 and ends at column j2.\n",
        "\n",
        "* To perform operations on the table, use NumPy's array operations:"
      ],
      "metadata": {
        "id": "8xLoHDF3Idrq"
      }
    },
    {
      "cell_type": "code",
      "source": [
        "table1 + table2"
      ],
      "outputs": [],
      "execution_count": null,
      "metadata": {
        "id": "i4npCKTpIdrq"
      }
    },
    {
      "cell_type": "markdown",
      "source": [
        "This will add the two tables together.\n",
        "\n",
        "* To iterate over the table, use a loop:"
      ],
      "metadata": {
        "id": "6eGj9n9jIdrr"
      }
    },
    {
      "cell_type": "code",
      "source": [
        "for i in range(n):\n",
        "    for j in range(n):\n",
        "        print(table[i, j])"
      ],
      "outputs": [],
      "execution_count": null,
      "metadata": {
        "id": "fBY_A6zDIdrr"
      }
    },
    {
      "cell_type": "markdown",
      "source": [
        "This will print each element of the table to the console.\n",
        "\n",
        "To use NumPy to create an n x n table and manipulate it like a spreadsheet, you can use the methods described above. You can also use NumPy's many other features to perform more complex operations on your tables."
      ],
      "metadata": {
        "id": "FOP088U5Idrr"
      }
    }
  ],
  "metadata": {
    "colab": {
      "provenance": [],
      "include_colab_link": true
    },
    "kernelspec": {
      "display_name": "Python 3",
      "name": "python3"
    }
  },
  "nbformat": 4,
  "nbformat_minor": 0
}